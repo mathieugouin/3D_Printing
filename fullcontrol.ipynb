{
 "cells": [
  {
   "cell_type": "markdown",
   "id": "7d8eb96d-fed4-473d-b1de-e5c877f623ad",
   "metadata": {},
   "source": [
    "# Top"
   ]
  },
  {
   "cell_type": "code",
   "execution_count": 1,
   "id": "b8a5f723-0db4-4e5a-9c9f-7ff6aa7062a7",
   "metadata": {},
   "outputs": [],
   "source": [
    "import fullcontrol as fc"
   ]
  },
  {
   "cell_type": "markdown",
   "id": "d79b7828-be67-4fa2-a816-89607882b8e9",
   "metadata": {},
   "source": [
    "# Utility Functions"
   ]
  },
  {
   "cell_type": "code",
   "execution_count": 18,
   "id": "1aec7756-caa4-4bdb-8bdb-2f8bdb801bab",
   "metadata": {},
   "outputs": [],
   "source": [
    "def spiral(outer_size, num_turns, cw):\n",
    "    \"\"\"\n",
    "    Generate a square spiral that reaches `outer_size` after `num_turns`.\n",
    "    Returns a list of (x, y) coordinates.\n",
    "    \"\"\"\n",
    "    if num_turns < 1:\n",
    "        return [(0, 0)]\n",
    "\n",
    "    num_segments = 4 * num_turns + 1\n",
    "\n",
    "    step = outer_size / num_turns / 2\n",
    "    x, y = 0, 0\n",
    "    dx, dy = 1, 0  # initial direction: right\n",
    "    coords = [(x, y)]\n",
    "\n",
    "    for i in range(num_segments):\n",
    "        f = (i // 2 + 1 * (i < num_segments - 1)) * step\n",
    "        x += dx * f\n",
    "        y += dy * f\n",
    "        coords.append((x, y))\n",
    "        if cw:\n",
    "            dx, dy = dy, -dx  # rotate 90 degrees CW\n",
    "        else:\n",
    "            dx, dy = -dy, dx  # rotate 90 degrees CCW\n",
    "\n",
    "    return coords"
   ]
  },
  {
   "cell_type": "code",
   "execution_count": 25,
   "id": "96136992-f277-4843-b0db-f86abdf190fb",
   "metadata": {},
   "outputs": [],
   "source": [
    "# Inspiration on:\n",
    "# spiralXY(centre: Point, start_radius: float, end_radius: float, start_angle: float, n_turns: float, segments: int, cw: bool=False) -> list\n",
    "def squareSpiral(center, size, n_turns: int, cw=False):\n",
    "    steps = []\n",
    "    for p in spiral(size, n_turns, cw):\n",
    "        steps.append(fc.Point(x=p[0] + center.x, y=p[1] + center.y, z=center.z))\n",
    "    return steps"
   ]
  },
  {
   "cell_type": "markdown",
   "id": "a7523759-9978-4a40-9eb3-2e10b8e63745",
   "metadata": {},
   "source": [
    "# Design"
   ]
  },
  {
   "cell_type": "markdown",
   "id": "b3947b75-60a5-478b-8b26-fdfb6bcecddf",
   "metadata": {},
   "source": [
    "## Parameters"
   ]
  },
  {
   "cell_type": "code",
   "execution_count": 35,
   "id": "20b6923d-9e75-4e3a-a85b-cf034e9ed558",
   "metadata": {},
   "outputs": [],
   "source": [
    "# Parameters\n",
    "\n",
    "design_name = 'my_design'\n",
    "nozzle_temp = 220\n",
    "bed_temp = 60\n",
    "print_speed = 1000\n",
    "fan_percent = 100\n",
    "printer_name='ender_3' # generic / ultimaker2plus / prusa_i3 / ender_3 / cr_10 / bambulab_x1 / toolchanger_T0\n",
    "\n",
    "EW = 0.4 # extrusion width\n",
    "EH = 0.2 # extrusion height (and layer height)"
   ]
  },
  {
   "cell_type": "markdown",
   "id": "4c807adb-3d1f-48b2-8079-c1527132d65b",
   "metadata": {},
   "source": [
    "## Simple"
   ]
  },
  {
   "cell_type": "code",
   "execution_count": 46,
   "id": "7de31983-b0f4-47f9-9914-66ab73a1e2e4",
   "metadata": {},
   "outputs": [
    {
     "data": {
      "text/plain": [
       "[Extruder(on=False, units=None, dia_feed=None, relative_gcode=None, volume_to_e=None, total_volume=None, total_volume_ref=None, travel_format=None),\n",
       " Point(x=0.0, y=0.0, z=0.2, color=None),\n",
       " Extruder(on=True, units=None, dia_feed=None, relative_gcode=None, volume_to_e=None, total_volume=None, total_volume_ref=None, travel_format=None),\n",
       " Point(x=100.0, y=None, z=None, color=None),\n",
       " Point(x=None, y=100.0, z=None, color=None),\n",
       " Point(x=0.0, y=None, z=None, color=None),\n",
       " Point(x=None, y=0.0, z=None, color=None)]"
      ]
     },
     "execution_count": 46,
     "metadata": {},
     "output_type": "execute_result"
    }
   ],
   "source": [
    "steps = []\n",
    "\n",
    "steps.extend(fc.travel_to(fc.Point(x=0, y=0, z=.2)))\n",
    "steps.append(fc.Point(x=100))\n",
    "steps.append(fc.Point(y=100))\n",
    "steps.append(fc.Point(x=0))\n",
    "steps.append(fc.Point(y=0))\n",
    "\n",
    "steps"
   ]
  },
  {
   "cell_type": "markdown",
   "id": "b2bc3c8c-7be5-4f45-9dea-1373c794e96d",
   "metadata": {},
   "source": [
    "## Complex"
   ]
  },
  {
   "cell_type": "code",
   "execution_count": 29,
   "id": "55082033-3abb-43d5-820f-7f048a15cde2",
   "metadata": {},
   "outputs": [],
   "source": [
    "steps = []\n",
    "\n",
    "z = EH\n",
    "\n",
    "steps.append(fc.Extruder(on=True))\n",
    "steps.append(fc.Point(x=2, y=2, z=z))\n",
    "steps.append(fc.Point(x=2, y=200, z=z))\n",
    "steps.append(fc.Extruder(on=False))\n",
    "\n",
    "pt = fc.Point(x=20, y=20, z=z)\n",
    "steps.append(pt)\n",
    "\n",
    "steps.append(fc.Extruder(on=True))\n",
    "steps.extend(fc.rectangleXY(pt, 100, 10, True))\n",
    "steps.append(fc.Extruder(on=False))\n",
    "\n",
    "pt = fc.Point(x=40, y=100, z=z)\n",
    "steps.append(pt)\n",
    "steps.append(fc.Extruder(on=True))\n",
    "steps.extend(fc.spiralXY(pt, 3, 10, 0, 10, 1000, True))\n",
    "steps.append(fc.Extruder(on=False))\n",
    "\n",
    "pt = fc.Point(x=20, y=40, z=z)\n",
    "steps.append(pt)\n",
    "steps.append(fc.Extruder(on=True))\n",
    "steps.extend(fc.squarewaveXY(pt, fc.Vector(x=1, y=0, z=0), 10, 2, 30))\n",
    "steps.append(fc.Extruder(on=False))\n",
    "\n",
    "pt = fc.Point(x=100, y=100, z=z)\n",
    "steps.append(pt)\n",
    "steps.append(fc.Extruder(on=True))\n",
    "steps.extend(squareSpiral(pt, 80, 20, True))\n",
    "# steps"
   ]
  },
  {
   "cell_type": "markdown",
   "id": "cee2e118-4004-47f4-a1fb-917415d293c3",
   "metadata": {},
   "source": [
    "# Visualization"
   ]
  },
  {
   "cell_type": "code",
   "execution_count": 48,
   "id": "37fcaf8e-26d9-4029-add7-ee14885f6235",
   "metadata": {},
   "outputs": [
    {
     "data": {
      "application/vnd.plotly.v1+json": {
       "config": {
        "plotlyServerURL": "https://plot.ly"
       },
       "data": [
        {
         "line": {
          "color": [
           "rgb(0.00, 0.00, 255.00)",
           "rgb(0.00, 0.00, 255.00)",
           "rgb(0.00, 0.00, 255.00)",
           "rgb(0.00, 0.00, 255.00)",
           "rgb(0.00, 0.00, 255.00)"
          ],
          "width": 4
         },
         "mode": "lines",
         "showlegend": false,
         "type": "scatter3d",
         "x": [
          0,
          100,
          100,
          0,
          0
         ],
         "y": [
          0,
          0,
          100,
          100,
          0
         ],
         "z": [
          0.2,
          0.2,
          0.2,
          0.2,
          0.2
         ]
        },
        {
         "marker": {
          "color": "red",
          "size": 2
         },
         "mode": "markers",
         "showlegend": false,
         "type": "scatter3d",
         "x": [],
         "y": [],
         "z": []
        }
       ],
       "layout": {
        "height": 500,
        "margin": {
         "b": 10,
         "l": 10,
         "pad": 4,
         "r": 10,
         "t": 10
        },
        "paper_bgcolor": "black",
        "scene": {
         "aspectmode": "cube",
         "camera": {
          "center": {
           "x": 0,
           "y": 0,
           "z": -0.5
          },
          "eye": {
           "x": -0.625,
           "y": -1.25,
           "z": 0.125
          }
         },
         "xaxis": {
          "backgroundcolor": "black",
          "nticks": 10,
          "range": [
           -0.0009999999999976694,
           100.001
          ]
         },
         "yaxis": {
          "backgroundcolor": "black",
          "nticks": 10,
          "range": [
           -0.0009999999999976694,
           100.001
          ]
         },
         "zaxis": {
          "backgroundcolor": "black",
          "nticks": 10,
          "range": [
           0,
           100.002
          ]
         }
        },
        "template": {
         "data": {
          "bar": [
           {
            "error_x": {
             "color": "#f2f5fa"
            },
            "error_y": {
             "color": "#f2f5fa"
            },
            "marker": {
             "line": {
              "color": "rgb(17,17,17)",
              "width": 0.5
             },
             "pattern": {
              "fillmode": "overlay",
              "size": 10,
              "solidity": 0.2
             }
            },
            "type": "bar"
           }
          ],
          "barpolar": [
           {
            "marker": {
             "line": {
              "color": "rgb(17,17,17)",
              "width": 0.5
             },
             "pattern": {
              "fillmode": "overlay",
              "size": 10,
              "solidity": 0.2
             }
            },
            "type": "barpolar"
           }
          ],
          "carpet": [
           {
            "aaxis": {
             "endlinecolor": "#A2B1C6",
             "gridcolor": "#506784",
             "linecolor": "#506784",
             "minorgridcolor": "#506784",
             "startlinecolor": "#A2B1C6"
            },
            "baxis": {
             "endlinecolor": "#A2B1C6",
             "gridcolor": "#506784",
             "linecolor": "#506784",
             "minorgridcolor": "#506784",
             "startlinecolor": "#A2B1C6"
            },
            "type": "carpet"
           }
          ],
          "choropleth": [
           {
            "colorbar": {
             "outlinewidth": 0,
             "ticks": ""
            },
            "type": "choropleth"
           }
          ],
          "contour": [
           {
            "colorbar": {
             "outlinewidth": 0,
             "ticks": ""
            },
            "colorscale": [
             [
              0,
              "#0d0887"
             ],
             [
              0.1111111111111111,
              "#46039f"
             ],
             [
              0.2222222222222222,
              "#7201a8"
             ],
             [
              0.3333333333333333,
              "#9c179e"
             ],
             [
              0.4444444444444444,
              "#bd3786"
             ],
             [
              0.5555555555555556,
              "#d8576b"
             ],
             [
              0.6666666666666666,
              "#ed7953"
             ],
             [
              0.7777777777777778,
              "#fb9f3a"
             ],
             [
              0.8888888888888888,
              "#fdca26"
             ],
             [
              1,
              "#f0f921"
             ]
            ],
            "type": "contour"
           }
          ],
          "contourcarpet": [
           {
            "colorbar": {
             "outlinewidth": 0,
             "ticks": ""
            },
            "type": "contourcarpet"
           }
          ],
          "heatmap": [
           {
            "colorbar": {
             "outlinewidth": 0,
             "ticks": ""
            },
            "colorscale": [
             [
              0,
              "#0d0887"
             ],
             [
              0.1111111111111111,
              "#46039f"
             ],
             [
              0.2222222222222222,
              "#7201a8"
             ],
             [
              0.3333333333333333,
              "#9c179e"
             ],
             [
              0.4444444444444444,
              "#bd3786"
             ],
             [
              0.5555555555555556,
              "#d8576b"
             ],
             [
              0.6666666666666666,
              "#ed7953"
             ],
             [
              0.7777777777777778,
              "#fb9f3a"
             ],
             [
              0.8888888888888888,
              "#fdca26"
             ],
             [
              1,
              "#f0f921"
             ]
            ],
            "type": "heatmap"
           }
          ],
          "histogram": [
           {
            "marker": {
             "pattern": {
              "fillmode": "overlay",
              "size": 10,
              "solidity": 0.2
             }
            },
            "type": "histogram"
           }
          ],
          "histogram2d": [
           {
            "colorbar": {
             "outlinewidth": 0,
             "ticks": ""
            },
            "colorscale": [
             [
              0,
              "#0d0887"
             ],
             [
              0.1111111111111111,
              "#46039f"
             ],
             [
              0.2222222222222222,
              "#7201a8"
             ],
             [
              0.3333333333333333,
              "#9c179e"
             ],
             [
              0.4444444444444444,
              "#bd3786"
             ],
             [
              0.5555555555555556,
              "#d8576b"
             ],
             [
              0.6666666666666666,
              "#ed7953"
             ],
             [
              0.7777777777777778,
              "#fb9f3a"
             ],
             [
              0.8888888888888888,
              "#fdca26"
             ],
             [
              1,
              "#f0f921"
             ]
            ],
            "type": "histogram2d"
           }
          ],
          "histogram2dcontour": [
           {
            "colorbar": {
             "outlinewidth": 0,
             "ticks": ""
            },
            "colorscale": [
             [
              0,
              "#0d0887"
             ],
             [
              0.1111111111111111,
              "#46039f"
             ],
             [
              0.2222222222222222,
              "#7201a8"
             ],
             [
              0.3333333333333333,
              "#9c179e"
             ],
             [
              0.4444444444444444,
              "#bd3786"
             ],
             [
              0.5555555555555556,
              "#d8576b"
             ],
             [
              0.6666666666666666,
              "#ed7953"
             ],
             [
              0.7777777777777778,
              "#fb9f3a"
             ],
             [
              0.8888888888888888,
              "#fdca26"
             ],
             [
              1,
              "#f0f921"
             ]
            ],
            "type": "histogram2dcontour"
           }
          ],
          "mesh3d": [
           {
            "colorbar": {
             "outlinewidth": 0,
             "ticks": ""
            },
            "type": "mesh3d"
           }
          ],
          "parcoords": [
           {
            "line": {
             "colorbar": {
              "outlinewidth": 0,
              "ticks": ""
             }
            },
            "type": "parcoords"
           }
          ],
          "pie": [
           {
            "automargin": true,
            "type": "pie"
           }
          ],
          "scatter": [
           {
            "marker": {
             "line": {
              "color": "#283442"
             }
            },
            "type": "scatter"
           }
          ],
          "scatter3d": [
           {
            "line": {
             "colorbar": {
              "outlinewidth": 0,
              "ticks": ""
             }
            },
            "marker": {
             "colorbar": {
              "outlinewidth": 0,
              "ticks": ""
             }
            },
            "type": "scatter3d"
           }
          ],
          "scattercarpet": [
           {
            "marker": {
             "colorbar": {
              "outlinewidth": 0,
              "ticks": ""
             }
            },
            "type": "scattercarpet"
           }
          ],
          "scattergeo": [
           {
            "marker": {
             "colorbar": {
              "outlinewidth": 0,
              "ticks": ""
             }
            },
            "type": "scattergeo"
           }
          ],
          "scattergl": [
           {
            "marker": {
             "line": {
              "color": "#283442"
             }
            },
            "type": "scattergl"
           }
          ],
          "scattermap": [
           {
            "marker": {
             "colorbar": {
              "outlinewidth": 0,
              "ticks": ""
             }
            },
            "type": "scattermap"
           }
          ],
          "scattermapbox": [
           {
            "marker": {
             "colorbar": {
              "outlinewidth": 0,
              "ticks": ""
             }
            },
            "type": "scattermapbox"
           }
          ],
          "scatterpolar": [
           {
            "marker": {
             "colorbar": {
              "outlinewidth": 0,
              "ticks": ""
             }
            },
            "type": "scatterpolar"
           }
          ],
          "scatterpolargl": [
           {
            "marker": {
             "colorbar": {
              "outlinewidth": 0,
              "ticks": ""
             }
            },
            "type": "scatterpolargl"
           }
          ],
          "scatterternary": [
           {
            "marker": {
             "colorbar": {
              "outlinewidth": 0,
              "ticks": ""
             }
            },
            "type": "scatterternary"
           }
          ],
          "surface": [
           {
            "colorbar": {
             "outlinewidth": 0,
             "ticks": ""
            },
            "colorscale": [
             [
              0,
              "#0d0887"
             ],
             [
              0.1111111111111111,
              "#46039f"
             ],
             [
              0.2222222222222222,
              "#7201a8"
             ],
             [
              0.3333333333333333,
              "#9c179e"
             ],
             [
              0.4444444444444444,
              "#bd3786"
             ],
             [
              0.5555555555555556,
              "#d8576b"
             ],
             [
              0.6666666666666666,
              "#ed7953"
             ],
             [
              0.7777777777777778,
              "#fb9f3a"
             ],
             [
              0.8888888888888888,
              "#fdca26"
             ],
             [
              1,
              "#f0f921"
             ]
            ],
            "type": "surface"
           }
          ],
          "table": [
           {
            "cells": {
             "fill": {
              "color": "#506784"
             },
             "line": {
              "color": "rgb(17,17,17)"
             }
            },
            "header": {
             "fill": {
              "color": "#2a3f5f"
             },
             "line": {
              "color": "rgb(17,17,17)"
             }
            },
            "type": "table"
           }
          ]
         },
         "layout": {
          "annotationdefaults": {
           "arrowcolor": "#f2f5fa",
           "arrowhead": 0,
           "arrowwidth": 1
          },
          "autotypenumbers": "strict",
          "coloraxis": {
           "colorbar": {
            "outlinewidth": 0,
            "ticks": ""
           }
          },
          "colorscale": {
           "diverging": [
            [
             0,
             "#8e0152"
            ],
            [
             0.1,
             "#c51b7d"
            ],
            [
             0.2,
             "#de77ae"
            ],
            [
             0.3,
             "#f1b6da"
            ],
            [
             0.4,
             "#fde0ef"
            ],
            [
             0.5,
             "#f7f7f7"
            ],
            [
             0.6,
             "#e6f5d0"
            ],
            [
             0.7,
             "#b8e186"
            ],
            [
             0.8,
             "#7fbc41"
            ],
            [
             0.9,
             "#4d9221"
            ],
            [
             1,
             "#276419"
            ]
           ],
           "sequential": [
            [
             0,
             "#0d0887"
            ],
            [
             0.1111111111111111,
             "#46039f"
            ],
            [
             0.2222222222222222,
             "#7201a8"
            ],
            [
             0.3333333333333333,
             "#9c179e"
            ],
            [
             0.4444444444444444,
             "#bd3786"
            ],
            [
             0.5555555555555556,
             "#d8576b"
            ],
            [
             0.6666666666666666,
             "#ed7953"
            ],
            [
             0.7777777777777778,
             "#fb9f3a"
            ],
            [
             0.8888888888888888,
             "#fdca26"
            ],
            [
             1,
             "#f0f921"
            ]
           ],
           "sequentialminus": [
            [
             0,
             "#0d0887"
            ],
            [
             0.1111111111111111,
             "#46039f"
            ],
            [
             0.2222222222222222,
             "#7201a8"
            ],
            [
             0.3333333333333333,
             "#9c179e"
            ],
            [
             0.4444444444444444,
             "#bd3786"
            ],
            [
             0.5555555555555556,
             "#d8576b"
            ],
            [
             0.6666666666666666,
             "#ed7953"
            ],
            [
             0.7777777777777778,
             "#fb9f3a"
            ],
            [
             0.8888888888888888,
             "#fdca26"
            ],
            [
             1,
             "#f0f921"
            ]
           ]
          },
          "colorway": [
           "#636efa",
           "#EF553B",
           "#00cc96",
           "#ab63fa",
           "#FFA15A",
           "#19d3f3",
           "#FF6692",
           "#B6E880",
           "#FF97FF",
           "#FECB52"
          ],
          "font": {
           "color": "#f2f5fa"
          },
          "geo": {
           "bgcolor": "rgb(17,17,17)",
           "lakecolor": "rgb(17,17,17)",
           "landcolor": "rgb(17,17,17)",
           "showlakes": true,
           "showland": true,
           "subunitcolor": "#506784"
          },
          "hoverlabel": {
           "align": "left"
          },
          "hovermode": "closest",
          "mapbox": {
           "style": "dark"
          },
          "paper_bgcolor": "rgb(17,17,17)",
          "plot_bgcolor": "rgb(17,17,17)",
          "polar": {
           "angularaxis": {
            "gridcolor": "#506784",
            "linecolor": "#506784",
            "ticks": ""
           },
           "bgcolor": "rgb(17,17,17)",
           "radialaxis": {
            "gridcolor": "#506784",
            "linecolor": "#506784",
            "ticks": ""
           }
          },
          "scene": {
           "xaxis": {
            "backgroundcolor": "rgb(17,17,17)",
            "gridcolor": "#506784",
            "gridwidth": 2,
            "linecolor": "#506784",
            "showbackground": true,
            "ticks": "",
            "zerolinecolor": "#C8D4E3"
           },
           "yaxis": {
            "backgroundcolor": "rgb(17,17,17)",
            "gridcolor": "#506784",
            "gridwidth": 2,
            "linecolor": "#506784",
            "showbackground": true,
            "ticks": "",
            "zerolinecolor": "#C8D4E3"
           },
           "zaxis": {
            "backgroundcolor": "rgb(17,17,17)",
            "gridcolor": "#506784",
            "gridwidth": 2,
            "linecolor": "#506784",
            "showbackground": true,
            "ticks": "",
            "zerolinecolor": "#C8D4E3"
           }
          },
          "shapedefaults": {
           "line": {
            "color": "#f2f5fa"
           }
          },
          "sliderdefaults": {
           "bgcolor": "#C8D4E3",
           "bordercolor": "rgb(17,17,17)",
           "borderwidth": 1,
           "tickwidth": 0
          },
          "ternary": {
           "aaxis": {
            "gridcolor": "#506784",
            "linecolor": "#506784",
            "ticks": ""
           },
           "baxis": {
            "gridcolor": "#506784",
            "linecolor": "#506784",
            "ticks": ""
           },
           "bgcolor": "rgb(17,17,17)",
           "caxis": {
            "gridcolor": "#506784",
            "linecolor": "#506784",
            "ticks": ""
           }
          },
          "title": {
           "x": 0.05
          },
          "updatemenudefaults": {
           "bgcolor": "#506784",
           "borderwidth": 0
          },
          "xaxis": {
           "automargin": true,
           "gridcolor": "#283442",
           "linecolor": "#506784",
           "ticks": "",
           "title": {
            "standoff": 15
           },
           "zerolinecolor": "#283442",
           "zerolinewidth": 2
          },
          "yaxis": {
           "automargin": true,
           "gridcolor": "#283442",
           "linecolor": "#506784",
           "ticks": "",
           "title": {
            "standoff": 15
           },
           "zerolinecolor": "#283442",
           "zerolinewidth": 2
          }
         }
        },
        "width": 800
       }
      },
      "image/png": "[encoded data removed]"
     },
     "metadata": {},
     "output_type": "display_data"
    }
   ],
   "source": [
    "fc.transform(steps, 'plot', fc.PlotControls(style='line', zoom=.8))"
   ]
  },
  {
   "cell_type": "markdown",
   "id": "d89f3201-607f-4e82-b9d2-cef6dd7cbf11",
   "metadata": {},
   "source": [
    "# GCODE"
   ]
  },
  {
   "cell_type": "code",
   "execution_count": 36,
   "id": "34518dd3-c9bd-43b4-a140-c7ff06e8f2db",
   "metadata": {},
   "outputs": [],
   "source": [
    "gcode = fc.transform(\n",
    "    steps,\n",
    "    'gcode',\n",
    "    controls=fc.GcodeControls(\n",
    "        printer_name='generic',  # or ender_3\n",
    "        initialization_data={\n",
    "            'extrusion_width': .4,\n",
    "            'extrusion_height': .2\n",
    "        }\n",
    "    )\n",
    ")\n",
    "#print(gcode)"
   ]
  },
  {
   "cell_type": "code",
   "execution_count": 37,
   "id": "c90b80f4-8640-4ed7-a26c-b2c493f5bee9",
   "metadata": {},
   "outputs": [],
   "source": [
    "gcode = fc.transform(\n",
    "    steps,\n",
    "    'gcode',\n",
    "    fc.GcodeControls(\n",
    "        printer_name=printer_name,\n",
    "        initialization_data={\n",
    "            'primer': 'front_lines_then_y',\n",
    "            'print_speed': print_speed,\n",
    "            'nozzle_temp': nozzle_temp,\n",
    "            'bed_temp': bed_temp,\n",
    "            'fan_percent': fan_percent,\n",
    "            'extrusion_width': EW,\n",
    "            'extrusion_height': EH},\n",
    "        save_as=design_name,\n",
    "        include_date=False\n",
    "    )\n",
    ")"
   ]
  },
  {
   "cell_type": "code",
   "execution_count": 41,
   "id": "95b8372a-435a-401c-85b2-4e43f1d1d4c5",
   "metadata": {},
   "outputs": [
    {
     "name": "stdout",
     "output_type": "stream",
     "text": [
      "\n",
      ";FLAVOR:Marlin\n",
      ";TIME:0\n",
      ";Filament used: 0m\n",
      ";Layer height: 0\n",
      ";MINX:0\n",
      ";MINY:0\n",
      ";MINZ:0\n",
      ";MAXX:220\n",
      ";MAXY:220\n",
      ";MAXZ:250\n",
      "\n",
      "; Time to print!!!!!\n",
      "; GCode created with FullControl - tell us what you're printing!\n",
      "; info@fullcontrol.xyz or tag FullControlXYZ on Twitter/Instagram/LinkedIn/Reddit/TikTok \n",
      "\n",
      "G28 ; home axes\n",
      "M140 S60 ; set bed temp and continue\n",
      "M105\n",
      "M104 S220 ; set hotend temp and continue\n",
      "M190 S60 ; set bed temp and wait\n",
      "M105\n",
      "M109 S220  ; set hotend temp and wait\n",
      "G90 ; absolute coordinates\n",
      "G21 ; set units to millimeters\n",
      "M83 ; relative extrusion\n",
      "M106 S255 ; set fan speed\n",
      "M220 S100 ; set speed factor override percentage\n",
      "M221 S100 ; set extrude factor override percentage\n",
      "G0 F8000 X5 Y5 Z10\n",
      "G1 F250 E20.7876\n",
      "G0 F250 Z50\n",
      "G0 F8000 X10 Y10 Z0.3\n",
      ";-----\n",
      "; END OF STARTING PROCEDURE\n",
      ";-----\n",
      "\n",
      ";-----\n",
      "; START OF PRIMER PROCEDURE\n",
      ";-----\n",
      "G0 F8000 Y12 Z0.2\n",
      "G1 F1000 X110 E3.326014\n",
      "G1 Y14 E0.06652\n",
      "G1 X10 E3.326014\n",
      "G1 Y16 E0.06652\n",
      "G1 X2 E0.266081\n",
      "G1 Y2 E0.465642\n",
      ";-----\n",
      "; END OF PRIMER PROCEDURE\n",
      ";-----\n"
     ]
    }
   ],
   "source": [
    "for l in gcode.splitlines()[:50]:\n",
    "    print(l)"
   ]
  },
  {
   "cell_type": "code",
   "execution_count": null,
   "id": "1cec04d7-a64b-4956-85cb-b1fc80a58a50",
   "metadata": {},
   "outputs": [],
   "source": []
  }
 ],
 "metadata": {
  "kernelspec": {
   "display_name": "Python 3 (ipykernel)",
   "language": "python",
   "name": "python3"
  },
  "language_info": {
   "codemirror_mode": {
    "name": "ipython",
    "version": 3
   },
   "file_extension": ".py",
   "mimetype": "text/x-python",
   "name": "python",
   "nbconvert_exporter": "python",
   "pygments_lexer": "ipython3",
   "version": "3.12.3"
  }
 },
 "nbformat": 4,
 "nbformat_minor": 5
}
